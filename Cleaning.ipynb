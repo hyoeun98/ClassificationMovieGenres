{
 "cells": [
  {
   "cell_type": "code",
   "execution_count": null,
   "id": "53c32465",
   "metadata": {},
   "outputs": [],
   "source": [
    "import numpy as np\n",
    "import pandas as pd\n",
    "from pandas_profiling import ProfileReport\n",
    "import re"
   ]
  },
  {
   "cell_type": "code",
   "execution_count": null,
   "id": "51485774",
   "metadata": {
    "scrolled": true
   },
   "outputs": [],
   "source": [
    "data = pd.read_csv('watcha_crawling.csv')\n",
    "data"
   ]
  },
  {
   "cell_type": "code",
   "execution_count": null,
   "id": "f525f295",
   "metadata": {
    "scrolled": true
   },
   "outputs": [],
   "source": [
    "df = data.drop_duplicates(['title'],ignore_index=True)\n",
    "df = df.dropna(how=\"any\")\n",
    "df"
   ]
  },
  {
   "cell_type": "code",
   "execution_count": null,
   "id": "c63edfe8",
   "metadata": {},
   "outputs": [],
   "source": [
    "title = list()\n",
    "story = list()\n",
    "rating = list()\n",
    "genre = list()\n",
    "tag = list()\n",
    "region = list()\n",
    "year = list()\n",
    "\n",
    "rating_regexp = re.compile('\\d.\\d$')\n",
    "info_split_regexp = re.compile('\\|') \n",
    "genre_split_regexp = re.compile('\\s\\D+[^·]')\n",
    "year_split_regexp = re.compile('\\d+년$')"
   ]
  },
  {
   "cell_type": "code",
   "execution_count": null,
   "id": "c0c06617",
   "metadata": {
    "scrolled": true
   },
   "outputs": [],
   "source": [
    "for i in df['title']:\n",
    "    title.append(i)\n",
    "    \n",
    "for i in df['story']:\n",
    "    story.append(i)\n",
    "    \n",
    "for i in df['rating']:\n",
    "    rating.append(rating_regexp.findall(i)[0])\n",
    "    \n",
    "for i in df['info']:\n",
    "    info = info_split_regexp.split(i)\n",
    "    genre.append(\"\".join(genre_split_regexp.findall(info[0])).strip())\n",
    "    if len(info) == 3: # tag가 안 붙은 작품\n",
    "        tag.append(\"no_tags\")\n",
    "        region.append(\"\".join(genre_split_regexp.findall(info[1])).strip())\n",
    "        year.append(\"\".join(year_split_regexp.findall(info[2])).strip())\n",
    "        \n",
    "    else:\n",
    "        tag.append(\"\".join(genre_split_regexp.findall(info[1])).strip())\n",
    "        region.append(\"\".join(genre_split_regexp.findall(info[2])).strip())\n",
    "        year.append(\"\".join(year_split_regexp.findall(info[3])).strip())"
   ]
  },
  {
   "cell_type": "code",
   "execution_count": null,
   "id": "16157a4c",
   "metadata": {
    "scrolled": true
   },
   "outputs": [],
   "source": [
    "movie = pd.DataFrame({'title' : title,\n",
    "                      'story' : story,\n",
    "                      'rating' : rating,\n",
    "                      'genre' : genre,\n",
    "                      'tag' : tag,\n",
    "                      'region' : region,\n",
    "                      'year' : year})\n",
    "movie.iloc[:1,:]"
   ]
  },
  {
   "cell_type": "code",
   "execution_count": null,
   "id": "016762ae",
   "metadata": {
    "scrolled": true
   },
   "outputs": [],
   "source": [
    "# profile = ProfileReport(movie)\n",
    "# profile.to_notebook_iframe()"
   ]
  },
  {
   "cell_type": "code",
   "execution_count": null,
   "id": "1129f47c",
   "metadata": {},
   "outputs": [],
   "source": [
    "movie.to_csv(\"movies.csv\", mode='w', index=False)"
   ]
  }
 ],
 "metadata": {
  "kernelspec": {
   "display_name": "Python 3",
   "language": "python",
   "name": "python3"
  },
  "language_info": {
   "codemirror_mode": {
    "name": "ipython",
    "version": 3
   },
   "file_extension": ".py",
   "mimetype": "text/x-python",
   "name": "python",
   "nbconvert_exporter": "python",
   "pygments_lexer": "ipython3",
   "version": "3.8.8"
  }
 },
 "nbformat": 4,
 "nbformat_minor": 5
}
