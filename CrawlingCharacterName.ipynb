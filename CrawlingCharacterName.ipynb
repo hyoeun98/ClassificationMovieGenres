{
 "cells": [
  {
   "cell_type": "code",
   "execution_count": 7,
   "id": "a207f013",
   "metadata": {},
   "outputs": [],
   "source": [
    "import selenium\n",
    "import pandas as pd\n",
    "import pickle\n",
    "\n",
    "from selenium import webdriver\n",
    "from selenium.webdriver.common.keys import Keys\n",
    "from selenium.webdriver.common.by import By\n",
    "from selenium.webdriver.support.ui import WebDriverWait"
   ]
  },
  {
   "cell_type": "code",
   "execution_count": 8,
   "id": "565f0ac8",
   "metadata": {},
   "outputs": [],
   "source": [
    "URL = 'https://search.naver.com/search.naver?where=nexearch&sm=top_hty&fbm=0&ie=utf8&query=%EC%98%81%ED%99%94+%EB%B0%94%EB%9E%8C+%EC%B6%9C%EC%97%B0%EC%A7%84'\n",
    "options = webdriver.ChromeOptions()\n",
    "options.add_argument(\"start-maximized\")\n",
    "#options.add_argument(\"--headless\")\n",
    "options.add_argument(\"--auto-open-devtools-for-tabs\")\n",
    "driver = webdriver.Chrome(options=options, executable_path='C:/anaconda/chromedriver')\n",
    "driver.implicitly_wait(time_to_wait=3)\n",
    "driver.get(url=URL)\n",
    "df = pd.read_csv('movies.csv')\n",
    "title = df['title']\n",
    "user_dic = []\n",
    "require= []"
   ]
  },
  {
   "cell_type": "code",
   "execution_count": 9,
   "id": "e5605292",
   "metadata": {
    "scrolled": false
   },
   "outputs": [],
   "source": [
    "for i in range(1, len(title)):\n",
    "    search_box = driver.find_element_by_xpath('//*[@id=\"nx_query\"]')\n",
    "    search_box.clear()\n",
    "    search_box.send_keys(\"영화 \" + title[i] + \" 출연진\")\n",
    "    search_box.submit()\n",
    "\n",
    "    try:\n",
    "        characters = driver.find_element_by_xpath('//*[@id=\"main_pack\"]/div[2]/div[2]/div/ul/li[2]/div/ul')\n",
    "    except:\n",
    "        require.append(title[i])\n",
    "    else:\n",
    "        try:\n",
    "            characters_names = characters.find_elements_by_css_selector('a > div > div.title_box > span > span')\n",
    "        except:\n",
    "            continue\n",
    "        else:\n",
    "            for c in characters_names:\n",
    "                user_dic.append(c.text)"
   ]
  },
  {
   "cell_type": "code",
   "execution_count": 11,
   "id": "6089a113",
   "metadata": {},
   "outputs": [],
   "source": [
    "character_names = 'CharacterNames.txt'\n",
    "require_title = 'RequireTitle.txt'\n",
    "with open(character_names, 'ab') as lf:\n",
    "    pickle.dump(user_dic, lf)\n",
    "    \n",
    "with open(require_title, 'ab') as lf:\n",
    "    pickle.dump(require, lf)"
   ]
  }
 ],
 "metadata": {
  "kernelspec": {
   "display_name": "Python 3 (ipykernel)",
   "language": "python",
   "name": "python3"
  },
  "language_info": {
   "codemirror_mode": {
    "name": "ipython",
    "version": 3
   },
   "file_extension": ".py",
   "mimetype": "text/x-python",
   "name": "python",
   "nbconvert_exporter": "python",
   "pygments_lexer": "ipython3",
   "version": "3.8.12"
  }
 },
 "nbformat": 4,
 "nbformat_minor": 5
}
