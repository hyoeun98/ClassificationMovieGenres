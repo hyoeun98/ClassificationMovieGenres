{
 "cells": [
  {
   "cell_type": "code",
   "execution_count": null,
   "id": "a207f013",
   "metadata": {},
   "outputs": [],
   "source": [
    "import selenium\n",
    "import pandas as pd\n",
    "import pickle\n",
    "\n",
    "from selenium import webdriver\n",
    "from selenium.webdriver.common.keys import Keys\n",
    "from selenium.webdriver.common.by import By\n",
    "from selenium.webdriver.support.ui import WebDriverWait"
   ]
  },
  {
   "cell_type": "code",
   "execution_count": null,
   "id": "e5605292",
   "metadata": {},
   "outputs": [],
   "source": [
    "URL = 'https://search.naver.com/search.naver?where=nexearch&sm=top_hty&fbm=0&ie=utf8&query=%EC%98%81%ED%99%94+%EB%B0%94%EB%9E%8C+%EC%B6%9C%EC%97%B0%EC%A7%84'\n",
    "options = webdriver.ChromeOptions()\n",
    "options.add_argument(\"start-maximized\")\n",
    "#options.add_argument(\"--headless\")\n",
    "options.add_argument(\"--auto-open-devtools-for-tabs\")\n",
    "driver = webdriver.Chrome(options=options, executable_path='C:/anaconda/chromedriver')\n",
    "driver.implicitly_wait(time_to_wait=3)\n",
    "driver.get(url=URL)\n",
    "df = pd.read_csv('movies.csv')\n",
    "title = df['title']\n",
    "user_dic = []\n",
    "require_title= []\n",
    "for i in title:\n",
    "    search_box = driver.find_element_by_xpath('//*[@id=\"nx_query\"]')\n",
    "    search_box.clear()\n",
    "    search_box.send_keys(\"영화 \" + i + \" 출연진\")\n",
    "    search_box.submit()\n",
    "\n",
    "    try:\n",
    "        characters = driver.find_element_by_xpath('//*[@id=\"main_pack\"]/div[2]/div[2]/div/ul/li[2]/div/ul')\n",
    "    except:\n",
    "        require_title.append(i)\n",
    "    else:\n",
    "        try:\n",
    "            characters_names = characters.find_elements_by_css_selector('a > div > div.title_box > span > span')\n",
    "        except:\n",
    "            continue\n",
    "        else:\n",
    "            for c in characters_names:\n",
    "                user_dic.append(c.text)"
   ]
  },
  {
   "cell_type": "code",
   "execution_count": null,
   "id": "6089a113",
   "metadata": {},
   "outputs": [],
   "source": [
    "filePath = 'CharacterNames.txt'\n",
    "with open(filePath, 'wb') as lf:\n",
    "    pickle.dump(user_dic, lf)"
   ]
  }
 ],
 "metadata": {
  "kernelspec": {
   "display_name": "Python 3",
   "language": "python",
   "name": "python3"
  },
  "language_info": {
   "codemirror_mode": {
    "name": "ipython",
    "version": 3
   },
   "file_extension": ".py",
   "mimetype": "text/x-python",
   "name": "python",
   "nbconvert_exporter": "python",
   "pygments_lexer": "ipython3",
   "version": "3.8.8"
  }
 },
 "nbformat": 4,
 "nbformat_minor": 5
}
